{
  "cells": [
    {
      "cell_type": "code",
      "execution_count": 1,
      "metadata": {
        "id": "OfIK6wJ6G4sT"
      },
      "outputs": [],
      "source": [
        "import numpy as np\n",
        "import torch\n",
        "import os\n",
        "from math import ceil\n",
        "import copy\n",
        "import matplotlib.pyplot as plt"
      ]
    },
    {
      "cell_type": "markdown",
      "metadata": {
        "id": "aJ0BJFsaHYYV"
      },
      "source": [
        "# Define basic architectures\n",
        "- fully connected networks\n",
        "- - Fully Connected Networks are easy to scale up, we don't need to re-design the architecture\n",
        "- TODO\n",
        "- - In order to efficiently scale up convolutional neural networks, we determine to use efficentNet to scale up the networks"
      ]
    },
    {
      "cell_type": "code",
      "execution_count": 2,
      "metadata": {
        "id": "y7SSOz0rHXJh"
      },
      "outputs": [],
      "source": [
        "import torch\n",
        "from torch import nn\n",
        "\n",
        "class fc(nn.Module):  # only for mnist\n",
        "  def __init__(self,n_layers,n_neurons,n_classes):\n",
        "    super(fc, self).__init__()\n",
        "\n",
        "    assert n_layers > 0, \"layers must be positive integer\"\n",
        "    assert n_neurons > 0, \"layers must be positive integer\"\n",
        "\n",
        "    layers = []\n",
        "    layers.append(nn.Linear(28*28, n_neurons))  # first layer should match mnist image sizes\n",
        "    layers.append(nn.ReLU())    # we can add BN and dropout layer here, TBD\n",
        "    for i in range(n_layers-1):\n",
        "      layers.append(nn.Linear(n_neurons,n_neurons))\n",
        "      layers.append(nn.ReLU())  # we can add BN and dropout layer here, TBD\n",
        "    layers.append(nn.Linear(n_neurons,n_classes))\n",
        "    \n",
        "    self.classifier = nn.Sequential(*layers)\n",
        "  \n",
        "  def forward(self,x):\n",
        "    x = x.view(x.size(0),-1)  # reshape the input x\n",
        "    y = self.classifier(x)\n",
        "    return y\n",
        "\n",
        "# specify a model with the specific hyperparameters\n",
        "def specifyModel(model_type,args):\n",
        "  assert model_type in ['fc','lenet','vgg']\n",
        "  if model_type == 'fc':\n",
        "    # fc args format should be (n_layers,n_neurons,n_classes)\n",
        "    model = fc(*args)\n",
        "  return model"
      ]
    },
    {
      "cell_type": "code",
      "execution_count": null,
      "metadata": {},
      "outputs": [],
      "source": []
    },
    {
      "cell_type": "code",
      "execution_count": null,
      "metadata": {},
      "outputs": [],
      "source": []
    },
    {
      "cell_type": "code",
      "execution_count": null,
      "metadata": {},
      "outputs": [],
      "source": []
    },
    {
      "cell_type": "code",
      "execution_count": null,
      "metadata": {},
      "outputs": [],
      "source": []
    },
    {
      "cell_type": "code",
      "execution_count": null,
      "metadata": {},
      "outputs": [],
      "source": []
    },
    {
      "cell_type": "code",
      "execution_count": null,
      "metadata": {},
      "outputs": [],
      "source": []
    },
    {
      "cell_type": "code",
      "execution_count": null,
      "metadata": {},
      "outputs": [],
      "source": []
    },
    {
      "cell_type": "code",
      "execution_count": null,
      "metadata": {
        "id": "rWYqzpAjoQTr"
      },
      "outputs": [],
      "source": []
    },
    {
      "cell_type": "code",
      "execution_count": null,
      "metadata": {
        "id": "nm3YClhpoQmi"
      },
      "outputs": [],
      "source": []
    },
    {
      "cell_type": "markdown",
      "metadata": {
        "id": "Iz5FKX-QNhIG"
      },
      "source": [
        "# Utils\n",
        "- initialize dataloader\n",
        "- train function\n",
        "- validate function\n",
        "- store model weights\n"
      ]
    },
    {
      "cell_type": "code",
      "execution_count": 3,
      "metadata": {
        "id": "h3D28IXdHXd5"
      },
      "outputs": [],
      "source": [
        "import torchvision.datasets as datasets\n",
        "import torchvision.transforms as transforms\n",
        "\n",
        "def loadData(str_dataset):\n",
        "  assert str_dataset in ['mnist','cifar10','fashionmnist']  # only implement mnist right now, TODO\n",
        "  if str_dataset == 'mnist':\n",
        "    transform = transforms.Compose([transforms.ToTensor(),\n",
        "                                    transforms.Normalize((0.1307,), (0.3081,))])\n",
        "    trainDataset = datasets.MNIST('./data/', train=True, download=True, transform=transform)\n",
        "    testDataset = datasets.MNIST('./data/', train=False, transform=transform)\n",
        "  return trainDataset, testDataset\n",
        "\n",
        "def defLoader(train_dataset,test_dataset,batch_size):\n",
        "  train_loader = torch.utils.data.DataLoader(train_dataset, batch_size=batch_size, shuffle=True)\n",
        "  test_loader = torch.utils.data.DataLoader(test_dataset, batch_size=batch_size, shuffle=False)\n",
        "  return train_loader, test_loader"
      ]
    },
    {
      "cell_type": "code",
      "execution_count": 4,
      "metadata": {
        "id": "oQUr11wDHXiR"
      },
      "outputs": [],
      "source": [
        "from tqdm import tqdm\n",
        "import torch\n",
        "\n",
        "def train(model,train_loader,optimizer,criterion):\n",
        "  EPS = 1e-8\n",
        "  device = torch.device(\"cuda\" if torch.cuda.is_available() else \"cpu\")\n",
        "  model.train()\n",
        "  for batch_idx,(x,y) in enumerate(train_loader):\n",
        "    optimizer.zero_grad()\n",
        "    x, y = x.to(device), y.to(device)\n",
        "    pred = model(x)\n",
        "    train_loss = criterion(pred,y)\n",
        "    train_loss.backward()\n",
        "    freeze_pruned_weight(EPS) # freeze pruned weights by making their gradients zero\n",
        "    optimizer.step()\n",
        "    if batch_idx%1000 == 0:\n",
        "      print(f'Batch_idx={batch_idx}, training_loss={train_loss.item()/len(x)}')\n",
        "  return train_loss.item()/len(x)\n",
        "\n",
        "def trainWithScheduler(model,train_loader,optimizer,criterion,scheduler,log=False):\n",
        "  EPS = 1e-8\n",
        "  device = torch.device(\"cuda\" if torch.cuda.is_available() else \"cpu\")\n",
        "  model.train()\n",
        "  for batch_idx,(x,y) in enumerate(train_loader):\n",
        "    optimizer.zero_grad()\n",
        "    x, y = x.to(device), y.to(device)\n",
        "    pred = model(x)\n",
        "    train_loss = criterion(pred,y)\n",
        "    train_loss.backward()\n",
        "    freeze_pruned_weight(EPS) # freeze pruned weights by making their gradients zero\n",
        "    optimizer.step()\n",
        "    scheduler.step()\n",
        "    if batch_idx%1000 == 0 and log:\n",
        "      print(f'Batch_idx={batch_idx}, training_loss={train_loss.item()/len(x)}')\n",
        "  return train_loss.item()/len(x)\n",
        "\n",
        "def validate(model,test_loader,criterion):\n",
        "  validation_loss, correct = 0,0\n",
        "  device = torch.device(\"cuda\" if torch.cuda.is_available() else \"cpu\")\n",
        "  model.eval()\n",
        "  with torch.no_grad():\n",
        "    for batch_idx, (x,y) in enumerate(test_loader):\n",
        "      x, y = x.to(device), y.to(device)\n",
        "      pred = model(x)\n",
        "      validation_loss += criterion(pred,y).item()\n",
        "      correct += (pred.argmax(1) == y).sum().item()\n",
        "  test_size = len(test_loader.dataset)\n",
        "  validation_loss /= test_size\n",
        "  accuracy = correct/test_size\n",
        "  return validation_loss, accuracy\n",
        "\n"
      ]
    },
    {
      "cell_type": "code",
      "execution_count": 5,
      "metadata": {
        "id": "OpOZohaDkZXj"
      },
      "outputs": [],
      "source": [
        "import os\n",
        "import torch\n",
        "\n",
        "def store_content(rootPath,content,*args):\n",
        "  rootPath = rootPath\n",
        "  if not os.path.exists(rootPath):\n",
        "    os.makedirs(rootPath)\n",
        "  contentPath = ''\n",
        "  contentPath = os.path.join(contentPath,rootPath)\n",
        "  contentPath += args[0]\n",
        "  for element in args[1:]:\n",
        "    contentPath += '_'\n",
        "    contentPath += str(element)\n",
        "  contentPath += '.pth'\n",
        "  print('storedPath:',contentPath)\n",
        "  torch.save(content,contentPath)\n",
        "  return contentPath"
      ]
    },
    {
      "cell_type": "code",
      "execution_count": null,
      "metadata": {
        "id": "qW3gbaZakb1r"
      },
      "outputs": [],
      "source": []
    },
    {
      "cell_type": "code",
      "execution_count": null,
      "metadata": {
        "id": "Nciy_TXZoO4g"
      },
      "outputs": [],
      "source": []
    },
    {
      "cell_type": "markdown",
      "metadata": {
        "id": "RRV5yXSjRL79"
      },
      "source": [
        "# Prune Methods\n",
        "- layer_wise pruning\n",
        "- TODO"
      ]
    },
    {
      "cell_type": "code",
      "execution_count": 6,
      "metadata": {
        "id": "7Xwz_refRK2N"
      },
      "outputs": [],
      "source": [
        "def prune_layer_wise(prune_type,percent=20):\n",
        "  global mask\n",
        "  global model\n",
        "  assert prune_type in ['percentile','l1']\n",
        "  step = 0\n",
        "  if prune_type == 'percentile':\n",
        "    for name, param in model.named_parameters():\n",
        "      if 'weight' in name:\n",
        "        param_tensor = param.data.cpu().numpy()\n",
        "        reserved_param = param_tensor[np.nonzero(param_tensor)] # only prune still-unpruned params\n",
        "        percentile_value = np.percentile(abs(reserved_param), percent)\n",
        "\n",
        "        weight_dev = param.device\n",
        "        new_mask = np.where(abs(param_tensor) < percentile_value, 0, mask[step])  \n",
        "        param.data = torch.from_numpy(param_tensor*new_mask).to(weight_dev)\n",
        "        mask[step] = new_mask\n",
        "        step += 1"
      ]
    },
    {
      "cell_type": "code",
      "execution_count": null,
      "metadata": {
        "id": "qpCnsBfURSJ4"
      },
      "outputs": [],
      "source": []
    },
    {
      "cell_type": "code",
      "execution_count": null,
      "metadata": {
        "id": "lhCXLdlWRSN6"
      },
      "outputs": [],
      "source": []
    },
    {
      "cell_type": "markdown",
      "metadata": {
        "id": "9fZ62w5hIufB"
      },
      "source": [
        "# Weight Related Operation\n",
        "- initialize model weights\n",
        "- make mask\n",
        "- initialize model with init_weight under the control of mask\n",
        "- freeze pruned weights by making their gradients zero\n",
        "- count non-zero parameters"
      ]
    },
    {
      "cell_type": "code",
      "execution_count": 7,
      "metadata": {
        "id": "LFC43XTuIq69"
      },
      "outputs": [],
      "source": [
        "# Function for initialization\n",
        "import torch.nn.init as init\n",
        "import torch.nn as nn\n",
        "\n",
        "def init_weight(m):\n",
        "  '''\n",
        "  Usage:\n",
        "    model = Model()\n",
        "    model.apply(weight_init)\n",
        "  '''\n",
        "  if isinstance(m, nn.Conv1d):\n",
        "    init.normal_(m.weight.data)\n",
        "    if m.bias is not None:\n",
        "      init.normal_(m.bias.data)\n",
        "  elif isinstance(m, nn.Conv2d):\n",
        "    init.xavier_normal_(m.weight.data)\n",
        "    if m.bias is not None:\n",
        "      init.normal_(m.bias.data)\n",
        "  elif isinstance(m, nn.Conv3d):\n",
        "    init.xavier_normal_(m.weight.data)\n",
        "    if m.bias is not None:\n",
        "      init.normal_(m.bias.data)\n",
        "  elif isinstance(m, nn.ConvTranspose1d):\n",
        "    init.normal_(m.weight.data)\n",
        "    if m.bias is not None:\n",
        "      init.normal_(m.bias.data)\n",
        "  elif isinstance(m, nn.ConvTranspose2d):\n",
        "    init.xavier_normal_(m.weight.data)\n",
        "    if m.bias is not None:\n",
        "      init.normal_(m.bias.data)\n",
        "  elif isinstance(m, nn.ConvTranspose3d):\n",
        "    init.xavier_normal_(m.weight.data)\n",
        "    if m.bias is not None:\n",
        "      init.normal_(m.bias.data)\n",
        "  elif isinstance(m, nn.BatchNorm1d):\n",
        "    init.normal_(m.weight.data, mean=1, std=0.02)\n",
        "    init.constant_(m.bias.data, 0)\n",
        "  elif isinstance(m, nn.BatchNorm2d):\n",
        "    init.normal_(m.weight.data, mean=1, std=0.02)\n",
        "    init.constant_(m.bias.data, 0)\n",
        "  elif isinstance(m, nn.BatchNorm3d):\n",
        "    init.normal_(m.weight.data, mean=1, std=0.02)\n",
        "    init.constant_(m.bias.data, 0)\n",
        "  elif isinstance(m, nn.Linear):\n",
        "    init.xavier_normal_(m.weight.data)\n",
        "    init.normal_(m.bias.data)\n",
        "  elif isinstance(m, nn.LSTM):\n",
        "    for param in m.parameters():\n",
        "      if len(param.shape) >= 2:\n",
        "        init.orthogonal_(param.data)\n",
        "      else:\n",
        "        init.normal_(param.data)\n",
        "  elif isinstance(m, nn.LSTMCell):\n",
        "    for param in m.parameters():\n",
        "      if len(param.shape) >= 2:\n",
        "        init.orthogonal_(param.data)\n",
        "      else:\n",
        "        init.normal_(param.data)\n",
        "  elif isinstance(m, nn.GRU):\n",
        "    for param in m.parameters():\n",
        "      if len(param.shape) >= 2:\n",
        "        init.orthogonal_(param.data)\n",
        "      else:\n",
        "        init.normal_(param.data)\n",
        "  elif isinstance(m, nn.GRUCell):\n",
        "    for param in m.parameters():\n",
        "      if len(param.shape) >= 2:\n",
        "        init.orthogonal_(param.data)\n",
        "      else:\n",
        "        init.normal_(param.data)\n"
      ]
    },
    {
      "cell_type": "code",
      "execution_count": 8,
      "metadata": {
        "id": "k2jviotxIrnV"
      },
      "outputs": [],
      "source": [
        "def make_mask(model):\n",
        "  # Function to make an empty mask of the same size as the model\n",
        "  global mask\n",
        "  step = 0\n",
        "  for name, param in model.named_parameters():\n",
        "    if 'weight' in name:\n",
        "      step += 1\n",
        "  mask = [None]*step  # initialize a list to store the mask\n",
        "  step = 0\n",
        "  for name, param in model.named_parameters():\n",
        "    if 'weight' in name:\n",
        "      tensor = param.data.cpu().numpy()\n",
        "      mask[step] = np.ones_like(tensor)\n",
        "      step += 1"
      ]
    },
    {
      "cell_type": "code",
      "execution_count": 9,
      "metadata": {
        "id": "GsO4UipVIrxd"
      },
      "outputs": [],
      "source": [
        "def init_weight_with_mask(mask,initial_state_dict):\n",
        "  global model\n",
        "  step = 0\n",
        "  for name,param in model.named_parameters():\n",
        "    if 'weight' in name:\n",
        "      weight_dev = param.device\n",
        "      param.data = torch.from_numpy(mask[step]*initial_state_dict[name].cpu().numpy()).to(weight_dev)\n",
        "      step += 1\n",
        "    if 'bias' in name:\n",
        "      param.data = initial_state_dict[name]"
      ]
    },
    {
      "cell_type": "code",
      "execution_count": 10,
      "metadata": {
        "id": "owv0vr46Ir6Q"
      },
      "outputs": [],
      "source": [
        "def freeze_pruned_weight(EPS):\n",
        "  global model\n",
        "  for name, p in model.named_parameters():  # freeze pruned weights by making their gradients equal to zero\n",
        "    if 'weight' in name:\n",
        "      tensor = p.data\n",
        "      grad_tensor = p.grad\n",
        "      grad_tensor = torch.where(tensor.abs() < EPS, torch.zeros_like(grad_tensor), grad_tensor)\n",
        "      p.grad.data = grad_tensor"
      ]
    },
    {
      "cell_type": "code",
      "execution_count": 11,
      "metadata": {
        "id": "1vpyV3W8Is1f"
      },
      "outputs": [],
      "source": [
        "def count_nonzero_param(model,log=False):\n",
        "  nonzero, total = 0, 0\n",
        "  for name,param in model.named_parameters():\n",
        "    param_tensor = param.data.cpu().numpy()\n",
        "    nonzero_count = np.count_nonzero(param_tensor)\n",
        "    total_count = np.prod(param_tensor.shape)\n",
        "    nonzero += nonzero_count\n",
        "    total += total_count\n",
        "    if log: print(f'layer_name={name}|nonzero_count={nonzero_count}|total_count={total_count}|pruned_percent={nonzero_count/total_count}')\n",
        "  return round((nonzero/total)*100,1)"
      ]
    },
    {
      "cell_type": "code",
      "execution_count": null,
      "metadata": {
        "id": "LvhbIlZEMI7B"
      },
      "outputs": [],
      "source": []
    },
    {
      "cell_type": "code",
      "execution_count": null,
      "metadata": {
        "id": "wpRSef8IMJDS"
      },
      "outputs": [],
      "source": []
    },
    {
      "cell_type": "code",
      "execution_count": null,
      "metadata": {
        "id": "VIv-8GQIMJUM"
      },
      "outputs": [],
      "source": []
    },
    {
      "cell_type": "markdown",
      "metadata": {
        "id": "3pK4ifxhdr_d"
      },
      "source": [
        "# Main function"
      ]
    },
    {
      "cell_type": "code",
      "execution_count": 29,
      "metadata": {
        "id": "DHAXt7xYc01z"
      },
      "outputs": [],
      "source": [
        "# hyperparameters initalization\n",
        "n_classes = 10\n",
        "n_epochs_train = 10\n",
        "n_epochs_iterative_prune = 10\n",
        "reinit = True\n",
        "batch_size = 16\n",
        "model_type = 'fc'\n",
        "dataset_type = 'mnist'\n",
        "n_layers = 2\n",
        "n_neurons = 10\n",
        "lr = 1e-3\n",
        "momentum = 0.9\n",
        "device = torch.device(\"cuda\" if torch.cuda.is_available() else \"cpu\")"
      ]
    },
    {
      "cell_type": "code",
      "execution_count": 30,
      "metadata": {
        "id": "dE-FsyqwJTgv"
      },
      "outputs": [],
      "source": [
        "# load dataset\n",
        "trainDataset, testDataset = loadData(dataset_type)\n",
        "train_loader, test_loader = defLoader(trainDataset,testDataset,batch_size)"
      ]
    },
    {
      "cell_type": "code",
      "execution_count": 31,
      "metadata": {
        "id": "WPxHVf1TJTt8"
      },
      "outputs": [],
      "source": [
        "# initialize model, optimizer, scheduler, criterion\n",
        "global model\n",
        "model = specifyModel(model_type,(n_layers,n_neurons,n_classes)).to(device)\n",
        "optimizer = torch.optim.SGD(model.parameters(),lr=lr,momentum=momentum)\n",
        "scheduler = torch.optim.lr_scheduler.OneCycleLR(optimizer,max_lr=lr,steps_per_epoch=ceil(len(trainDataset)/batch_size),epochs=n_epochs_train)\n",
        "criterion = nn.CrossEntropyLoss(reduction='sum')"
      ]
    },
    {
      "cell_type": "code",
      "execution_count": 32,
      "metadata": {
        "colab": {
          "base_uri": "https://localhost:8080/"
        },
        "id": "bRBedduWJSGJ",
        "outputId": "80b6746b-77db-4616-8a72-6cb301a78d61"
      },
      "outputs": [
        {
          "name": "stdout",
          "output_type": "stream",
          "text": [
            "storedPath: ./model_save/fc_mnist_2_10_0.001_init.pth\n"
          ]
        }
      ],
      "source": [
        "# initialize store the model parameters\n",
        "model.apply(init_weight)\n",
        "store_content('./model_save/',model,model_type,dataset_type,n_layers,n_neurons,lr,'init')\n",
        "initial_state_dict = copy.deepcopy(model.state_dict())\n",
        "make_mask(model)"
      ]
    },
    {
      "cell_type": "code",
      "execution_count": 33,
      "metadata": {
        "colab": {
          "base_uri": "https://localhost:8080/"
        },
        "id": "4W6QRNm3ICjJ",
        "outputId": "b9496b17-3f22-47c9-8837-707445a6cd07"
      },
      "outputs": [
        {
          "name": "stderr",
          "output_type": "stream",
          "text": [
            "  0%|          | 0/10 [00:00<?, ?it/s]"
          ]
        },
        {
          "name": "stdout",
          "output_type": "stream",
          "text": [
            "current_iteration:0|nonzero_param_percent100.0\n",
            "validation_loss:2.9799416191101074, accuracy:0.0767\n",
            "training_loss:0.25859785079956055\n",
            "validation_loss:0.4010906591258943, accuracy:0.8812\n",
            "training_loss:0.4959476888179779\n",
            "validation_loss:0.4057508211359382, accuracy:0.8878\n",
            "training_loss:0.2876463830471039\n",
            "validation_loss:0.32144123647622763, accuracy:0.9124\n",
            "training_loss:0.10815560072660446\n",
            "validation_loss:0.3612383492603898, accuracy:0.9069\n",
            "training_loss:0.34175601601600647\n",
            "validation_loss:0.30778079364653677, accuracy:0.9175\n",
            "training_loss:0.8797352313995361\n",
            "validation_loss:0.2810219096198678, accuracy:0.922\n",
            "training_loss:0.04104173555970192\n",
            "validation_loss:0.2817830113864504, accuracy:0.9264\n",
            "training_loss:0.3483338952064514\n",
            "validation_loss:0.23918941980972885, accuracy:0.9306\n",
            "training_loss:0.04733174294233322\n",
            "validation_loss:0.21705572857819497, accuracy:0.9385\n"
          ]
        },
        {
          "name": "stderr",
          "output_type": "stream",
          "text": [
            " 10%|█         | 1/10 [02:45<24:51, 165.70s/it]"
          ]
        },
        {
          "name": "stdout",
          "output_type": "stream",
          "text": [
            "training_loss:0.033796485513448715\n",
            "storedPath: ./model_save/fc_mnist_2_10_0.001_trained_reinit-True_0.pth\n",
            "current_iteration:1|nonzero_param_percent80.1\n",
            "validation_loss:2.706383430862427, accuracy:0.0897\n",
            "training_loss:0.19309718906879425\n",
            "validation_loss:0.36855866097211837, accuracy:0.8891\n",
            "training_loss:0.2712864279747009\n",
            "validation_loss:0.29532085967361926, accuracy:0.9138\n",
            "training_loss:0.10209449380636215\n",
            "validation_loss:0.2843909808151424, accuracy:0.9195\n",
            "training_loss:0.38330814242362976\n",
            "validation_loss:0.2920114989859983, accuracy:0.9212\n",
            "training_loss:0.25648370385169983\n",
            "validation_loss:0.31265537395328286, accuracy:0.9137\n",
            "training_loss:0.4020184874534607\n",
            "validation_loss:0.3094618802998215, accuracy:0.915\n",
            "training_loss:0.10225553810596466\n",
            "validation_loss:0.2672774113446474, accuracy:0.926\n",
            "training_loss:0.978890061378479\n",
            "validation_loss:0.23747393666272984, accuracy:0.935\n",
            "training_loss:0.2255636304616928\n",
            "validation_loss:0.21767302066702396, accuracy:0.9382\n"
          ]
        },
        {
          "name": "stderr",
          "output_type": "stream",
          "text": [
            " 20%|██        | 2/10 [05:24<21:31, 161.44s/it]"
          ]
        },
        {
          "name": "stdout",
          "output_type": "stream",
          "text": [
            "training_loss:0.14059863984584808\n",
            "storedPath: ./model_save/fc_mnist_2_10_0.001_trained_reinit-True_1.pth\n",
            "current_iteration:2|nonzero_param_percent64.1\n",
            "validation_loss:2.8669374259948732, accuracy:0.0754\n",
            "training_loss:0.28538990020751953\n",
            "validation_loss:0.3685658698067069, accuracy:0.8907\n",
            "training_loss:0.5574404001235962\n",
            "validation_loss:0.2877937225475907, accuracy:0.918\n",
            "training_loss:0.10674601048231125\n",
            "validation_loss:0.3129605887763202, accuracy:0.9139\n",
            "training_loss:0.02218349277973175\n",
            "validation_loss:0.28999632203429937, accuracy:0.9173\n",
            "training_loss:0.11900819838047028\n",
            "validation_loss:0.2789482263984159, accuracy:0.9168\n",
            "training_loss:0.1924322247505188\n",
            "validation_loss:0.2752819015616551, accuracy:0.9252\n",
            "training_loss:0.053467754274606705\n",
            "validation_loss:0.247770097548794, accuracy:0.9295\n",
            "training_loss:0.012896198779344559\n",
            "validation_loss:0.23587083481769078, accuracy:0.9348\n",
            "training_loss:0.30855968594551086\n",
            "validation_loss:0.2132693647624459, accuracy:0.9388\n"
          ]
        },
        {
          "name": "stderr",
          "output_type": "stream",
          "text": [
            " 30%|███       | 3/10 [07:59<18:31, 158.75s/it]"
          ]
        },
        {
          "name": "stdout",
          "output_type": "stream",
          "text": [
            "training_loss:0.04609665647149086\n",
            "storedPath: ./model_save/fc_mnist_2_10_0.001_trained_reinit-True_2.pth\n",
            "current_iteration:3|nonzero_param_percent51.4\n",
            "validation_loss:2.556920287132263, accuracy:0.1269\n",
            "training_loss:0.6686932444572449\n",
            "validation_loss:0.4424048955082893, accuracy:0.8687\n",
            "training_loss:0.32523226737976074\n",
            "validation_loss:0.3708459792420268, accuracy:0.8947\n",
            "training_loss:0.2278241515159607\n",
            "validation_loss:0.3743279696583748, accuracy:0.8961\n",
            "training_loss:0.7828113436698914\n",
            "validation_loss:0.3263940421499312, accuracy:0.9132\n",
            "training_loss:0.1956150084733963\n",
            "validation_loss:0.2893583517022431, accuracy:0.9172\n",
            "training_loss:0.13698947429656982\n",
            "validation_loss:0.28465323147028687, accuracy:0.9188\n",
            "training_loss:0.24541285634040833\n",
            "validation_loss:0.273248194809258, accuracy:0.9212\n",
            "training_loss:0.041707463562488556\n",
            "validation_loss:0.27890705043300984, accuracy:0.9213\n",
            "training_loss:0.08230187743902206\n",
            "validation_loss:0.24776904852166773, accuracy:0.9295\n"
          ]
        },
        {
          "name": "stderr",
          "output_type": "stream",
          "text": [
            " 40%|████      | 4/10 [10:43<16:04, 160.71s/it]"
          ]
        },
        {
          "name": "stdout",
          "output_type": "stream",
          "text": [
            "training_loss:0.43729791045188904\n",
            "storedPath: ./model_save/fc_mnist_2_10_0.001_trained_reinit-True_3.pth\n",
            "current_iteration:4|nonzero_param_percent41.2\n",
            "validation_loss:3.3976657663345335, accuracy:0.0963\n",
            "training_loss:0.8268704414367676\n",
            "validation_loss:0.48142420533299446, accuracy:0.86\n",
            "training_loss:0.4088717997074127\n",
            "validation_loss:0.3328458827733993, accuracy:0.908\n",
            "training_loss:0.25257810950279236\n",
            "validation_loss:0.3841375357747078, accuracy:0.8931\n",
            "training_loss:0.2807016968727112\n",
            "validation_loss:0.31650333830416205, accuracy:0.9141\n",
            "training_loss:0.4753497242927551\n",
            "validation_loss:0.31085226573050023, accuracy:0.914\n",
            "training_loss:0.08658736944198608\n",
            "validation_loss:0.3225184145539999, accuracy:0.9078\n",
            "training_loss:0.13874799013137817\n",
            "validation_loss:0.2896627010136843, accuracy:0.9216\n",
            "training_loss:0.07565513253211975\n",
            "validation_loss:0.2678984090492129, accuracy:0.9268\n",
            "training_loss:0.1034732386469841\n",
            "validation_loss:0.2507391558110714, accuracy:0.9313\n"
          ]
        },
        {
          "name": "stderr",
          "output_type": "stream",
          "text": [
            " 50%|█████     | 5/10 [13:22<13:20, 160.15s/it]"
          ]
        },
        {
          "name": "stdout",
          "output_type": "stream",
          "text": [
            "training_loss:0.20324355363845825\n",
            "storedPath: ./model_save/fc_mnist_2_10_0.001_trained_reinit-True_4.pth\n",
            "current_iteration:5|nonzero_param_percent33.0\n",
            "validation_loss:3.0426219131469727, accuracy:0.1032\n",
            "training_loss:0.34965458512306213\n",
            "validation_loss:0.4375264969587326, accuracy:0.8879\n",
            "training_loss:0.26708847284317017\n",
            "validation_loss:0.5048899069488049, accuracy:0.8653\n",
            "training_loss:0.11347328871488571\n",
            "validation_loss:0.3898269676633179, accuracy:0.8909\n",
            "training_loss:0.1385822296142578\n",
            "validation_loss:0.37338215451836587, accuracy:0.8996\n",
            "training_loss:0.17311395704746246\n",
            "validation_loss:0.3469111611112952, accuracy:0.908\n",
            "training_loss:0.08313433825969696\n",
            "validation_loss:0.31890112746432425, accuracy:0.9171\n",
            "training_loss:0.14526447653770447\n",
            "validation_loss:0.3183722898557782, accuracy:0.9131\n",
            "training_loss:0.06895409524440765\n",
            "validation_loss:0.28947747981771826, accuracy:0.9205\n",
            "training_loss:0.13852459192276\n",
            "validation_loss:0.26826318839862945, accuracy:0.9271\n"
          ]
        },
        {
          "name": "stderr",
          "output_type": "stream",
          "text": [
            " 60%|██████    | 6/10 [15:56<10:32, 158.09s/it]"
          ]
        },
        {
          "name": "stdout",
          "output_type": "stream",
          "text": [
            "training_loss:0.05722704157233238\n",
            "storedPath: ./model_save/fc_mnist_2_10_0.001_trained_reinit-True_5.pth\n",
            "current_iteration:6|nonzero_param_percent26.5\n",
            "validation_loss:2.916039102935791, accuracy:0.0982\n",
            "training_loss:1.1336851119995117\n",
            "validation_loss:0.9744952774047851, accuracy:0.677\n",
            "training_loss:0.714017927646637\n",
            "validation_loss:0.6907970495820045, accuracy:0.7676\n",
            "training_loss:1.1522166728973389\n",
            "validation_loss:0.6723962112784385, accuracy:0.774\n",
            "training_loss:0.5539129376411438\n",
            "validation_loss:0.7326819454073906, accuracy:0.7552\n",
            "training_loss:0.2203456312417984\n",
            "validation_loss:0.6727177276015281, accuracy:0.8047\n",
            "training_loss:0.41830918192863464\n",
            "validation_loss:0.530329131257534, accuracy:0.8675\n",
            "training_loss:0.4206605851650238\n",
            "validation_loss:0.5149051495075225, accuracy:0.8588\n",
            "training_loss:0.524108350276947\n",
            "validation_loss:0.48219322477281096, accuracy:0.8745\n",
            "training_loss:0.17499397695064545\n",
            "validation_loss:0.45916306791305544, accuracy:0.882\n"
          ]
        },
        {
          "name": "stderr",
          "output_type": "stream",
          "text": [
            " 70%|███████   | 7/10 [18:35<07:55, 158.34s/it]"
          ]
        },
        {
          "name": "stdout",
          "output_type": "stream",
          "text": [
            "training_loss:0.25530511140823364\n",
            "storedPath: ./model_save/fc_mnist_2_10_0.001_trained_reinit-True_6.pth\n",
            "current_iteration:7|nonzero_param_percent21.3\n",
            "validation_loss:2.8508331409454346, accuracy:0.1255\n",
            "training_loss:1.1705734729766846\n",
            "validation_loss:0.8401126378059387, accuracy:0.6929\n",
            "training_loss:0.441727876663208\n",
            "validation_loss:0.6957981389999389, accuracy:0.7548\n",
            "training_loss:0.6800487637519836\n",
            "validation_loss:0.6718805789113045, accuracy:0.7677\n",
            "training_loss:0.9591221809387207\n",
            "validation_loss:0.6274181324124336, accuracy:0.7809\n",
            "training_loss:1.3963972330093384\n",
            "validation_loss:0.6062277381062507, accuracy:0.7864\n",
            "training_loss:0.7654610872268677\n",
            "validation_loss:0.6104870013833046, accuracy:0.7805\n",
            "training_loss:0.7568402290344238\n",
            "validation_loss:0.6090019618630409, accuracy:0.7805\n",
            "training_loss:0.5844167470932007\n",
            "validation_loss:0.5788866163492202, accuracy:0.7954\n",
            "training_loss:0.5070030093193054\n",
            "validation_loss:0.5568082369446754, accuracy:0.8029\n"
          ]
        },
        {
          "name": "stderr",
          "output_type": "stream",
          "text": [
            " 80%|████████  | 8/10 [21:09<05:13, 156.89s/it]"
          ]
        },
        {
          "name": "stdout",
          "output_type": "stream",
          "text": [
            "training_loss:0.6801118850708008\n",
            "storedPath: ./model_save/fc_mnist_2_10_0.001_trained_reinit-True_7.pth\n",
            "current_iteration:8|nonzero_param_percent17.1\n",
            "validation_loss:2.4745739925384522, accuracy:0.1009\n",
            "training_loss:1.8119804859161377\n",
            "validation_loss:1.87127799243927, accuracy:0.2896\n",
            "training_loss:1.7609715461730957\n",
            "validation_loss:1.4552610250473021, accuracy:0.4304\n",
            "training_loss:1.329436182975769\n",
            "validation_loss:1.4042967210769652, accuracy:0.4287\n",
            "training_loss:1.385830283164978\n",
            "validation_loss:1.4036530375480651, accuracy:0.4271\n",
            "training_loss:0.8516929149627686\n",
            "validation_loss:1.4003964031219482, accuracy:0.4361\n",
            "training_loss:0.9129093289375305\n",
            "validation_loss:1.3907066286087035, accuracy:0.4242\n",
            "training_loss:1.5350090265274048\n",
            "validation_loss:1.3686190398216247, accuracy:0.4589\n",
            "training_loss:1.0500092506408691\n",
            "validation_loss:1.3544174264907838, accuracy:0.4458\n",
            "training_loss:1.755815029144287\n",
            "validation_loss:1.3366967491149901, accuracy:0.4419\n"
          ]
        },
        {
          "name": "stderr",
          "output_type": "stream",
          "text": [
            " 90%|█████████ | 9/10 [23:44<02:36, 156.44s/it]"
          ]
        },
        {
          "name": "stdout",
          "output_type": "stream",
          "text": [
            "training_loss:1.4070777893066406\n",
            "storedPath: ./model_save/fc_mnist_2_10_0.001_trained_reinit-True_8.pth\n",
            "current_iteration:9|nonzero_param_percent13.7\n",
            "validation_loss:2.5648642093658447, accuracy:0.0892\n",
            "training_loss:1.0102083683013916\n",
            "validation_loss:1.2291774459838867, accuracy:0.5343\n",
            "training_loss:1.203667163848877\n",
            "validation_loss:1.1190529120445252, accuracy:0.5729\n",
            "training_loss:0.7289869785308838\n",
            "validation_loss:1.0960385444641114, accuracy:0.589\n",
            "training_loss:0.9472470879554749\n",
            "validation_loss:1.0781243864059449, accuracy:0.6196\n",
            "training_loss:1.1175165176391602\n",
            "validation_loss:1.0771035848140718, accuracy:0.6355\n",
            "training_loss:0.5761358737945557\n",
            "validation_loss:1.037916315126419, accuracy:0.658\n",
            "training_loss:1.1513123512268066\n",
            "validation_loss:1.0448490484237671, accuracy:0.6483\n",
            "training_loss:0.9224945306777954\n",
            "validation_loss:1.0225810521125793, accuracy:0.6511\n",
            "training_loss:1.2157551050186157\n",
            "validation_loss:1.0033415455818175, accuracy:0.6621\n"
          ]
        },
        {
          "name": "stderr",
          "output_type": "stream",
          "text": [
            "100%|██████████| 10/10 [26:17<00:00, 157.77s/it]"
          ]
        },
        {
          "name": "stdout",
          "output_type": "stream",
          "text": [
            "training_loss:0.6244612336158752\n",
            "storedPath: ./model_save/fc_mnist_2_10_0.001_trained_reinit-True_9.pth\n",
            "storedPath: ./exp_result/fc_mnist_2_10_0.001_reinit-True.pth\n"
          ]
        },
        {
          "name": "stderr",
          "output_type": "stream",
          "text": [
            "\n"
          ]
        },
        {
          "data": {
            "text/plain": [
              "'./exp_result/fc_mnist_2_10_0.001_reinit-True.pth'"
            ]
          },
          "execution_count": 33,
          "metadata": {},
          "output_type": "execute_result"
        }
      ],
      "source": [
        "result_per_iter = {}\n",
        "nonzero_param_percent = []\n",
        "for iter in tqdm(range(n_epochs_iterative_prune)):\n",
        "  # result storage initalization\n",
        "  valLoss_per_epoch = []\n",
        "  accu_per_epoch = []\n",
        "  # initialize the weight after pruning\n",
        "  if iter != 0:\n",
        "    prune_layer_wise('percentile',20)\n",
        "    if reinit:\n",
        "      model.apply(init_weight)\n",
        "      reinitial_state_dict = copy.deepcopy(model.state_dict())\n",
        "      init_weight_with_mask(mask,reinitial_state_dict)\n",
        "    else:\n",
        "      init_weight_with_mask(mask,initial_state_dict)\n",
        "  nonzero_percent = count_nonzero_param(model)\n",
        "  print(f'current_iteration:{iter}|nonzero_param_percent{nonzero_percent}')\n",
        "  nonzero_param_percent.append(nonzero_percent)\n",
        "  # train the model for each iteration\n",
        "  optimizer = torch.optim.SGD(model.parameters(),lr=lr,momentum=momentum)\n",
        "  scheduler = torch.optim.lr_scheduler.OneCycleLR(optimizer,max_lr=lr,steps_per_epoch=ceil(len(trainDataset)/batch_size),epochs=n_epochs_train)\n",
        "  for epoch in range(n_epochs_train):\n",
        "    validation_loss,accuracy = validate(model, test_loader, criterion)\n",
        "    print(f'validation_loss:{validation_loss}, accuracy:{accuracy}')\n",
        "    loss = trainWithScheduler(model, train_loader, optimizer, criterion,scheduler,log=False)\n",
        "    print(f'training_loss:{loss}')\n",
        "    valLoss_per_epoch.append(validation_loss)\n",
        "    accu_per_epoch.append(accuracy)\n",
        "  # result store\n",
        "  store_path = store_content('./model_save/',model,model_type,dataset_type,n_layers,n_neurons,lr,'trained',f'reinit-{reinit}',iter)\n",
        "  result_per_iter[iter] = {'store_path': store_path,\n",
        "                           'nonzero_percent':nonzero_percent,\n",
        "                           'valLoss_per_epoch':valLoss_per_epoch,\n",
        "                           'accu_per_epoch':accu_per_epoch}\n",
        "store_content('./exp_result/',result_per_iter,model_type,dataset_type,n_layers,n_neurons,lr,f'reinit-{reinit}')"
      ]
    },
    {
      "cell_type": "code",
      "execution_count": null,
      "metadata": {
        "id": "yvKNf6BgYW9Y"
      },
      "outputs": [],
      "source": []
    },
    {
      "cell_type": "code",
      "execution_count": null,
      "metadata": {
        "id": "2fmlDBj9YYr0"
      },
      "outputs": [],
      "source": []
    },
    {
      "cell_type": "code",
      "execution_count": null,
      "metadata": {
        "id": "cHgKZKsZYYmb"
      },
      "outputs": [],
      "source": []
    },
    {
      "cell_type": "code",
      "execution_count": null,
      "metadata": {
        "id": "-OKaPb0HYYhL"
      },
      "outputs": [],
      "source": []
    },
    {
      "cell_type": "code",
      "execution_count": null,
      "metadata": {
        "id": "LWV0U4IsYYbv"
      },
      "outputs": [],
      "source": []
    },
    {
      "cell_type": "code",
      "execution_count": null,
      "metadata": {
        "id": "AlcuJjC9YYWX"
      },
      "outputs": [],
      "source": []
    },
    {
      "cell_type": "code",
      "execution_count": null,
      "metadata": {
        "id": "ml9nVvL5YYQv"
      },
      "outputs": [],
      "source": []
    },
    {
      "cell_type": "code",
      "execution_count": null,
      "metadata": {
        "id": "VPQiVl2kYYLn"
      },
      "outputs": [],
      "source": []
    },
    {
      "cell_type": "code",
      "execution_count": null,
      "metadata": {
        "id": "lso1P-noYYGH"
      },
      "outputs": [],
      "source": []
    },
    {
      "cell_type": "code",
      "execution_count": null,
      "metadata": {
        "id": "6O3VStZeYYAe"
      },
      "outputs": [],
      "source": []
    },
    {
      "cell_type": "code",
      "execution_count": null,
      "metadata": {
        "id": "Y1Pu9pQdYX6b"
      },
      "outputs": [],
      "source": []
    },
    {
      "cell_type": "code",
      "execution_count": null,
      "metadata": {
        "id": "xlr2tk5nYXzk"
      },
      "outputs": [],
      "source": []
    },
    {
      "cell_type": "code",
      "execution_count": null,
      "metadata": {
        "id": "Pyity50bYXsr"
      },
      "outputs": [],
      "source": []
    },
    {
      "cell_type": "code",
      "execution_count": null,
      "metadata": {
        "id": "y-r070YMYXlB"
      },
      "outputs": [],
      "source": []
    },
    {
      "cell_type": "code",
      "execution_count": null,
      "metadata": {
        "id": "8GI2YWmbYXLH"
      },
      "outputs": [],
      "source": []
    },
    {
      "cell_type": "markdown",
      "metadata": {
        "id": "oE3EzX59YZac"
      },
      "source": [
        "# Experiment Result Analysis"
      ]
    },
    {
      "cell_type": "code",
      "execution_count": 34,
      "metadata": {
        "colab": {
          "base_uri": "https://localhost:8080/",
          "height": 282
        },
        "id": "D3z5noTaICs4",
        "outputId": "b759cd7d-b730-4ffb-f21c-b8fe7d72f063"
      },
      "outputs": [
        {
          "data": {
            "text/plain": [
              "Text(0, 0.5, 'non-zero-params-percen')"
            ]
          },
          "execution_count": 34,
          "metadata": {},
          "output_type": "execute_result"
        },
        {
          "data": {
            "image/png": "[encoded data removed]",
            "text/plain": [
              "<Figure size 432x288 with 1 Axes>"
            ]
          },
          "metadata": {
            "needs_background": "light"
          },
          "output_type": "display_data"
        }
      ],
      "source": [
        "import matplotlib.pyplot as plt\n",
        "fig,ax = plt.subplots()\n",
        "ax.plot(nonzero_param_percent,'-o')\n",
        "ax.set_xlabel('pruning_iteration')\n",
        "ax.set_ylabel('non-zero-params-percen')"
      ]
    },
    {
      "cell_type": "code",
      "execution_count": 35,
      "metadata": {
        "id": "AD8EfkfcXiPG"
      },
      "outputs": [],
      "source": [
        "result_reinit_true = torch.load('exp_result/fc_mnist_2_10_0.001_reinit-True.pth')\n",
        "result_reinit_false = torch.load('exp_result/fc_mnist_2_10_0.001_reinit-False.pth')\n",
        "\n",
        "finalValLoss_reinit_true = []\n",
        "finalAccu_reinit_true = []\n",
        "finalValLoss_reinit_false = []\n",
        "finalAccu_reinit_false = []\n",
        "\n",
        "for dic_key in result_per_iter:\n",
        "  finalValLoss_reinit_true.append(result_reinit_true[dic_key]['valLoss_per_epoch'][-1])\n",
        "  finalAccu_reinit_true.append(result_reinit_true[dic_key]['accu_per_epoch'][-1])\n",
        "  finalValLoss_reinit_false.append(result_reinit_false[dic_key]['valLoss_per_epoch'][-1])\n",
        "  finalAccu_reinit_false.append(result_reinit_false[dic_key]['accu_per_epoch'][-1])\n"
      ]
    },
    {
      "cell_type": "code",
      "execution_count": 36,
      "metadata": {
        "colab": {
          "base_uri": "https://localhost:8080/",
          "height": 296
        },
        "id": "QVNLw_-eYDMh",
        "outputId": "3db5e774-6f52-466e-b554-7a291d74310c"
      },
      "outputs": [
        {
          "data": {
            "text/plain": [
              "<matplotlib.legend.Legend at 0x2bada0f4640>"
            ]
          },
          "execution_count": 36,
          "metadata": {},
          "output_type": "execute_result"
        },
        {
          "data": {
            "image/png": "[encoded data removed]",
            "text/plain": [
              "<Figure size 432x288 with 1 Axes>"
            ]
          },
          "metadata": {
            "needs_background": "light"
          },
          "output_type": "display_data"
        }
      ],
      "source": [
        "fig,ax = plt.subplots()\n",
        "ax.plot(100-np.array(nonzero_param_percent),finalValLoss_reinit_true,'-o',label='reinit-true')\n",
        "ax.plot(100-np.array(nonzero_param_percent),finalValLoss_reinit_false,'-o',label='reinit-false')\n",
        "ax.set_xlabel('prune rate')\n",
        "ax.set_ylabel('validation loss')\n",
        "ax.legend()"
      ]
    },
    {
      "cell_type": "code",
      "execution_count": 37,
      "metadata": {
        "colab": {
          "base_uri": "https://localhost:8080/",
          "height": 296
        },
        "id": "bPe8owjxIC7x",
        "outputId": "c9b6a8ed-e8fe-409d-f42a-ce4e074333b1"
      },
      "outputs": [
        {
          "data": {
            "text/plain": [
              "<matplotlib.legend.Legend at 0x2baccfc1fa0>"
            ]
          },
          "execution_count": 37,
          "metadata": {},
          "output_type": "execute_result"
        },
        {
          "data": {
            "image/png": "[encoded data removed]",
            "text/plain": [
              "<Figure size 432x288 with 1 Axes>"
            ]
          },
          "metadata": {
            "needs_background": "light"
          },
          "output_type": "display_data"
        }
      ],
      "source": [
        "fig,ax = plt.subplots()\n",
        "ax.plot(100-np.array(nonzero_param_percent),finalAccu_reinit_true,'-o',label='reinit-true')\n",
        "ax.plot(100-np.array(nonzero_param_percent),finalAccu_reinit_false,'-o',label='reinit-false')\n",
        "ax.set_xlabel('prune rate')\n",
        "ax.set_ylabel('Accuracy')\n",
        "ax.legend()"
      ]
    },
    {
      "cell_type": "code",
      "execution_count": 38,
      "metadata": {
        "id": "cABuSPbmIDA1"
      },
      "outputs": [],
      "source": [
        "result_reinit_true = torch.load('exp_result/fc_mnist_2_100_0.001_reinit-True.pth')\n",
        "result_reinit_false = torch.load('exp_result/fc_mnist_2_100_0.001_reinit-False.pth')\n",
        "\n",
        "finalValLoss_reinit_true = []\n",
        "finalAccu_reinit_true = []\n",
        "finalValLoss_reinit_false = []\n",
        "finalAccu_reinit_false = []\n",
        "\n",
        "for dic_key in result_per_iter:\n",
        "  finalValLoss_reinit_true.append(result_reinit_true[dic_key]['valLoss_per_epoch'][-1])\n",
        "  finalAccu_reinit_true.append(result_reinit_true[dic_key]['accu_per_epoch'][-1])\n",
        "  finalValLoss_reinit_false.append(result_reinit_false[dic_key]['valLoss_per_epoch'][-1])\n",
        "  finalAccu_reinit_false.append(result_reinit_false[dic_key]['accu_per_epoch'][-1])\n"
      ]
    },
    {
      "cell_type": "code",
      "execution_count": 39,
      "metadata": {
        "id": "ODOPDPEWIDGF"
      },
      "outputs": [
        {
          "data": {
            "text/plain": [
              "<matplotlib.legend.Legend at 0x2ba8f76f7c0>"
            ]
          },
          "execution_count": 39,
          "metadata": {},
          "output_type": "execute_result"
        },
        {
          "data": {
            "image/png": "[encoded data removed]",
            "text/plain": [
              "<Figure size 432x288 with 1 Axes>"
            ]
          },
          "metadata": {
            "needs_background": "light"
          },
          "output_type": "display_data"
        }
      ],
      "source": [
        "fig,ax = plt.subplots()\n",
        "ax.plot(100-np.array(nonzero_param_percent),finalValLoss_reinit_true,'-o',label='reinit-true')\n",
        "ax.plot(100-np.array(nonzero_param_percent),finalValLoss_reinit_false,'-o',label='reinit-false')\n",
        "ax.set_xlabel('prune rate')\n",
        "ax.set_ylabel('validation loss')\n",
        "ax.legend()"
      ]
    },
    {
      "cell_type": "code",
      "execution_count": 40,
      "metadata": {
        "id": "itWWr9VUIDLu"
      },
      "outputs": [
        {
          "data": {
            "text/plain": [
              "<matplotlib.legend.Legend at 0x2bacd073460>"
            ]
          },
          "execution_count": 40,
          "metadata": {},
          "output_type": "execute_result"
        },
        {
          "data": {
            "image/png": "[encoded data removed]",
            "text/plain": [
              "<Figure size 432x288 with 1 Axes>"
            ]
          },
          "metadata": {
            "needs_background": "light"
          },
          "output_type": "display_data"
        }
      ],
      "source": [
        "fig,ax = plt.subplots()\n",
        "ax.plot(100-np.array(nonzero_param_percent),finalAccu_reinit_true,'-o',label='reinit-true')\n",
        "ax.plot(100-np.array(nonzero_param_percent),finalAccu_reinit_false,'-o',label='reinit-false')\n",
        "ax.set_xlabel('prune rate')\n",
        "ax.set_ylabel('Accuracy')\n",
        "ax.legend()"
      ]
    },
    {
      "cell_type": "code",
      "execution_count": null,
      "metadata": {
        "id": "TIQbBuxhc1LS"
      },
      "outputs": [],
      "source": []
    },
    {
      "cell_type": "code",
      "execution_count": null,
      "metadata": {
        "id": "7ZzbmZ3gc1O_"
      },
      "outputs": [],
      "source": []
    },
    {
      "cell_type": "code",
      "execution_count": null,
      "metadata": {
        "id": "0_dIlmvDc1Sd"
      },
      "outputs": [],
      "source": []
    },
    {
      "cell_type": "code",
      "execution_count": null,
      "metadata": {
        "id": "67sONoFlc1WK"
      },
      "outputs": [],
      "source": []
    },
    {
      "cell_type": "code",
      "execution_count": null,
      "metadata": {
        "id": "iVv7wzO1c1Zu"
      },
      "outputs": [],
      "source": []
    },
    {
      "cell_type": "code",
      "execution_count": null,
      "metadata": {
        "id": "jAvjBIeRc1da"
      },
      "outputs": [],
      "source": []
    },
    {
      "cell_type": "code",
      "execution_count": null,
      "metadata": {
        "id": "LfiyrQzwc1g3"
      },
      "outputs": [],
      "source": []
    },
    {
      "cell_type": "code",
      "execution_count": null,
      "metadata": {
        "id": "-1pm8ETsc1kV"
      },
      "outputs": [],
      "source": []
    },
    {
      "cell_type": "code",
      "execution_count": null,
      "metadata": {
        "id": "LxJchFKBc1n-"
      },
      "outputs": [],
      "source": []
    },
    {
      "cell_type": "code",
      "execution_count": null,
      "metadata": {
        "id": "sDA75hnyc1rp"
      },
      "outputs": [],
      "source": []
    },
    {
      "cell_type": "code",
      "execution_count": null,
      "metadata": {
        "id": "vAW337RRc1vF"
      },
      "outputs": [],
      "source": []
    },
    {
      "cell_type": "code",
      "execution_count": null,
      "metadata": {
        "id": "zovO-Sj0c1yi"
      },
      "outputs": [],
      "source": []
    },
    {
      "cell_type": "code",
      "execution_count": null,
      "metadata": {
        "id": "sRklgO3uHX0F"
      },
      "outputs": [],
      "source": []
    },
    {
      "cell_type": "code",
      "execution_count": null,
      "metadata": {
        "id": "fMrPbkrOHX3h"
      },
      "outputs": [],
      "source": []
    },
    {
      "cell_type": "code",
      "execution_count": null,
      "metadata": {
        "id": "l0-qnDzNHX7h"
      },
      "outputs": [],
      "source": []
    }
  ],
  "metadata": {
    "colab": {
      "provenance": []
    },
    "gpuClass": "standard",
    "kernelspec": {
      "display_name": "Python 3.9.6 64-bit",
      "language": "python",
      "name": "python3"
    },
    "language_info": {
      "codemirror_mode": {
        "name": "ipython",
        "version": 3
      },
      "file_extension": ".py",
      "mimetype": "text/x-python",
      "name": "python",
      "nbconvert_exporter": "python",
      "pygments_lexer": "ipython3",
      "version": "3.9.6"
    },
    "vscode": {
      "interpreter": {
        "hash": "e6223c0bdce46768d8d93664c6373fc3af855c8037f860d167d81a2f705ce9e4"
      }
    }
  },
  "nbformat": 4,
  "nbformat_minor": 0
}
